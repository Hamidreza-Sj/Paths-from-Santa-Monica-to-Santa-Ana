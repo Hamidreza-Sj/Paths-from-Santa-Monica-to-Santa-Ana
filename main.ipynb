{
 "cells": [
  {
   "cell_type": "markdown",
   "metadata": {},
   "source": [
    "# Traffic Flow Modeling and Analysis in the Los Angeles Highway System"
   ]
  },
  {
   "cell_type": "code",
   "execution_count": 14,
   "metadata": {},
   "outputs": [],
   "source": [
    "# Import needed packages \n",
    "import networkx as nx\n",
    "import matplotlib.pyplot as plt\n",
    "import numpy as np\n",
    "%matplotlib inline\n",
    "import cvxpy as cp\n",
    "import scipy.io\n",
    "import scipy"
   ]
  },
  {
   "cell_type": "code",
   "execution_count": 11,
   "metadata": {},
   "outputs": [
    {
     "name": "stdout",
     "output_type": "stream",
     "text": [
      "[(1, 2), (1, 6), (2, 3), (2, 7), (3, 4), (3, 8), (3, 9), (4, 5), (4, 9), (5, 14), (6, 7), (6, 10), (7, 8), (7, 10), (8, 9), (8, 11), (9, 13), (9, 12), (13, 14), (13, 17), (14, 17), (10, 11), (10, 15), (11, 12), (11, 15), (15, 16), (12, 13), (16, 17)]\n"
     ]
    },
    {
     "data": {
      "image/png": "[encoded data removed]",
      "text/plain": [
       "<Figure size 640x480 with 1 Axes>"
      ]
     },
     "metadata": {},
     "output_type": "display_data"
    }
   ],
   "source": [
    "# Reading needed file from .mat files and creating capacities, traveltime, flow, and traffic\n",
    "capacities = scipy.io.loadmat('capacities.mat').get('capacities').reshape(28, )\n",
    "traveltime = scipy.io.loadmat('traveltime.mat').get('traveltime').reshape(28, )\n",
    "flow = scipy.io.loadmat('flow.mat').get('flow').reshape(28, )\n",
    "traffic = scipy.io.loadmat('traffic.mat').get('traffic')\n",
    "\n",
    "# creating Graph\n",
    "G = nx.DiGraph()\n",
    "\n",
    "#creating node-edge incidence matrix\n",
    "for edge in range(28):            #searching in edges\n",
    "    capacity = capacities[edge]\n",
    "    travtime = traveltime[edge]\n",
    "    for r in range(17):        # check nodes the output edge of node i is the input node of j\n",
    "        if traffic[r][edge] == 1:  \n",
    "            i = r              #second node\n",
    "        if traffic[r][edge] == -1:\n",
    "            j = r              # first node\n",
    "    G.add_edges_from([(i + 1, j + 1)], capacity=capacity, traveltime=travtime)\n",
    "\n",
    "print(G.edges())\n",
    "\n",
    "# Draw Graph\n",
    "positions = {1: [0, 1], 2: [2, 1], 3: [3.5, 1], 4: [5, 1], 5: [6, 0],\n",
    "             6: [-1, -1], 7: [0.5, -1], 8: [2, -1], 9: [4, -1],10: [0, -2],\n",
    "             11: [1, -2], 12: [3.5, -2], 13: [5, -2], 14: [7, -2], 15: [1.5, -3],\n",
    "             16: [3, -3], 17: [5, -3]}\n",
    "\n",
    "nx.draw(G, positions, with_labels=True)"
   ]
  },
  {
   "cell_type": "markdown",
   "metadata": {},
   "source": [
    "### a)\n",
    "\n",
    "Here for finding the shortest path we could easily use shortest path using shortest_path() method. The key passed to this method is traveltime."
   ]
  },
  {
   "cell_type": "code",
   "execution_count": 12,
   "metadata": {},
   "outputs": [
    {
     "name": "stdout",
     "output_type": "stream",
     "text": [
      "Shortest path from 1 to 17:  [1, 2, 3, 9, 13, 17]\n"
     ]
    }
   ],
   "source": [
    "shortest_path = nx.shortest_path(G, 1, 17,'traveltime')\n",
    "print('Shortest path from 1 to 17: ', shortest_path)"
   ]
  },
  {
   "cell_type": "markdown",
   "metadata": {},
   "source": [
    "### b)\n",
    "\n",
    "We use max flow to find the maximum_flow of two nodes in a graph."
   ]
  },
  {
   "cell_type": "code",
   "execution_count": 13,
   "metadata": {},
   "outputs": [
    {
     "name": "stdout",
     "output_type": "stream",
     "text": [
      "Maximum flow from node 1 to 17:  22448\n",
      "Flow of the maximum from node 1 to 17:  {1: {2: 8741, 6: 13707}, 2: {3: 8741, 7: 0}, 3: {4: 0, 8: 0, 9: 8741}, 4: {5: 0, 9: 0}, 5: {14: 0}, 6: {7: 4624, 10: 9083}, 7: {8: 4624, 10: 0}, 8: {9: 4624, 11: 0}, 9: {13: 6297, 12: 7068}, 13: {14: 3835, 17: 10355}, 14: {17: 3835}, 10: {11: 825, 15: 8258}, 11: {12: 825, 15: 0}, 15: {16: 8258}, 12: {13: 7893}, 17: {}, 16: {17: 8258}}\n"
     ]
    }
   ],
   "source": [
    "# Maximum Flow from 1 to 17:\n",
    "max_flow_value, flows = nx.algorithms.flow.maximum_flow(G, 1, 17)\n",
    "print('Maximum flow from node 1 to 17: ', max_flow_value)\n",
    "print('Flow of the maximum from node 1 to 17: ', flows)\n"
   ]
  },
  {
   "cell_type": "markdown",
   "metadata": {},
   "source": [
    "### c)\n",
    "\n",
    "Given the flow vector in flow.mat, compute the external inflow $\\nu$ satisfying Bf = $\\nu$. In the following, we assume that the exogenous inflow is zero in all the nodes except for node 1, for which $\\nu_{1}$ has the same value computed in the point (c), and node 17, for which $\\nu_{17}$ = -$\\nu_{1}$"
   ]
  },
  {
   "cell_type": "markdown",
   "metadata": {},
   "source": [
    "Regarding the inIncidence Matrix B that we created in the first section"
   ]
  },
  {
   "cell_type": "code",
   "execution_count": 14,
   "metadata": {},
   "outputs": [
    {
     "name": "stdout",
     "output_type": "stream",
     "text": [
      "Optimal f: [1. 1. 0. 0. 0. 0. 0. 0. 1. 0. 0. 1. 0. 0. 0. 0. 0. 0. 0. 0. 0. 0. 0. 0.\n",
      " 1. 0. 0. 0.]\n",
      "external inflow: [ 16282   9094  19448   4957   -746   4768    413     -2  -5671   1169\n",
      "     -5  -7131   -380  -7412  -7810  -3430 -23544]\n"
     ]
    },
    {
     "name": "stderr",
     "output_type": "stream",
     "text": [
      "/home/ali/Repos/University/NetworkDynamic/Homework1/.venv/lib/python3.10/site-packages/cvxpy/reductions/solvers/solving_chain.py:336: FutureWarning: \n",
      "    Your problem is being solved with the ECOS solver by default. Starting in \n",
      "    CVXPY 1.5.0, Clarabel will be used as the default solver instead. To continue \n",
      "    using ECOS, specify the ECOS solver explicitly using the ``solver=cp.ECOS`` \n",
      "    argument to the ``problem.solve`` method.\n",
      "    \n",
      "  warnings.warn(ECOS_DEPRECATION_MSG, FutureWarning)\n"
     ]
    }
   ],
   "source": [
    "np.set_printoptions(precision=2, suppress=True) #\n",
    "\n",
    "# 'traffic' matrix -> the incidence matrix B of the graph\n",
    "number_edges = traffic.shape[1] # number of edges\n",
    "\n",
    "# Define exogenous flow vector:\n",
    "# Set inflow at node 1 to 1 and outflow at node 17 to -1, with all other nodes having zero external flow\n",
    "exogenous_flow = np.array([1, 0, 0, 0, 0, 0, 0, 0, 0, 0, 0, 0, 0, 0, 0, 0, -1]) \n",
    "\n",
    "l = np.array(traveltime) # link length vector\n",
    "f = cp.Variable(number_edges) # flow vector\n",
    "\n",
    "# l stores the coefficients of the linear terms of the objective function, in this case the length of the links.\n",
    "# Add constraints\n",
    "objective = cp.Minimize(l.T@f) # minimize Transpose l @ f\n",
    "constraints = [exogenous_flow == traffic@f,f >= 0]      \n",
    "problem = cp.Problem(objective, constraints)\n",
    "\n",
    "# Output\n",
    "# Set up and solve the optimization problem\n",
    "optimal_cost = problem.solve()\n",
    "print('Optimal f:', f.value) # The optimal value\n",
    "\n",
    "external_inflow = traffic@flow\n",
    "print('external inflow:', external_inflow)"
   ]
  },
  {
   "cell_type": "markdown",
   "metadata": {},
   "source": [
    "### d)"
   ]
  },
  {
   "cell_type": "code",
   "execution_count": 15,
   "metadata": {},
   "outputs": [
    {
     "name": "stdout",
     "output_type": "stream",
     "text": [
      "Social Optimal flow: [ 6642.2   6058.94  3132.33  3132.33 10163.8   4638.32  3006.34  2542.63\n",
      "  3131.54   583.26     0.01  2926.6      0.    3132.33  5525.48  2854.27\n",
      "  4886.45  2215.24   463.72  2337.69  3317.99  5655.68  2373.11     0.\n",
      "  6414.12  5505.43  4886.45  4886.45]\n",
      "Optimal Cost: 25943.62261121288\n"
     ]
    }
   ],
   "source": [
    "# Define exogenous inflow vector\n",
    "exogenous_flow = np.array([16806, 0, 0, 0, 0, 0, 0, 0, 0, 0, 0, 0, 0, 0, 0, 0, -16806])\n",
    "\n",
    "f = cp.Variable(number_edges)\n",
    "\n",
    "# defining cost function\n",
    "function = cp.sum(cp.multiply(traveltime * capacities, cp.inv_pos(1 - cp.multiply(f, 1 / capacities))) - traveltime * capacities)\n",
    "\n",
    "# Finding the Minimum cost function\n",
    "# B_matrix is traffic\n",
    "objective = cp.Minimize(function)\n",
    "constraints = [traffic @ f == exogenous_flow, f >= 0, f <= capacities]  # 0 ≤ fe < ce.\n",
    "problem = cp.Problem(objective, constraints)\n",
    "\n",
    "optimal_cost = problem.solve()\n",
    "\n",
    "optimal_flow = f.value\n",
    "\n",
    "print(f'Social Optimal flow: {optimal_flow}') # Optimal value for\n",
    "print(f'Optimal Cost: {optimal_cost}')"
   ]
  },
  {
   "cell_type": "markdown",
   "metadata": {},
   "source": [
    "### e)"
   ]
  },
  {
   "cell_type": "code",
   "execution_count": 16,
   "metadata": {},
   "outputs": [
    {
     "name": "stdout",
     "output_type": "stream",
     "text": [
      "Wardrop equilibrium flow vector: [ 6715.65  6715.65  2367.41  2367.41 10090.35  4645.39  2803.84  2283.56\n",
      "  3418.48     0.     176.83  4171.41     0.    2367.41  5444.96  2353.17\n",
      "  4933.34  1841.55   697.11  3036.49  3050.28  6086.77  2586.51     0.\n",
      "  6918.74  4953.92  4933.34  4933.34]\n"
     ]
    }
   ],
   "source": [
    "# Define f\n",
    "f = cp.Variable(number_edges)\n",
    "\n",
    "# Define cost function\n",
    "func = cp.sum(- cp.multiply(traveltime * capacities, cp.log(1 - (cp.multiply(f, 1 / capacities)))))\n",
    "\n",
    "objective = cp.Minimize(func) # minimize cost function\n",
    "\n",
    "# Defining the constraints\n",
    "constraints = [traffic @ f == exogenous_flow, f >= 0, f <= capacities]\n",
    "problem = cp.Problem(objective, constraints) # Define the problem\n",
    "\n",
    "\n",
    "wardrop_cost = problem.solve() # calculate wardrop cost\n",
    "\n",
    "print('Wardrop equilibrium flow vector:', f.value)"
   ]
  },
  {
   "cell_type": "markdown",
   "metadata": {},
   "source": [
    "### f)\n",
    "\n",
    "Introduce tolls, such that the toll on link e is\n",
    "$\\omega_e$ = $f_e^\\;* $ $\\tau_e^\\prime$ $(f_e^\\;* $)\n",
    "where $f_e^\\;*$ is the flow at the system optimum. Now the delay on link e is given by\n",
    "$\\tau_e$($f_e$)+ $\\omega_e$. \n",
    "compute the new Wardrop equilibrium $f^{(\\omega)}$ . What do you observe?"
   ]
  },
  {
   "cell_type": "code",
   "execution_count": 17,
   "metadata": {},
   "outputs": [
    {
     "name": "stdout",
     "output_type": "stream",
     "text": [
      "Wardrop equilibrium without tolls: [ 6715.65  6715.65  2367.41  2367.41 10090.35  4645.39  2803.84  2283.56\n",
      "  3418.48     0.     176.83  4171.41     0.    2367.41  5444.96  2353.17\n",
      "  4933.34  1841.55   697.11  3036.49  3050.28  6086.77  2586.51     0.\n",
      "  6918.74  4953.92  4933.34  4933.34]\n",
      "Wardrop cost: 26292.963874629393\n",
      "Cost without tolls: 26292.963874629393\n",
      "Optimal cost without tolls: 25943.62261121288\n",
      "PoA: 1.013465400289377\n",
      "Wardrop equilibrium with tolls: [ 6642.97  6059.08  3132.47  3132.47 10163.03  4638.26  3006.33  2542.34\n",
      "  3131.49   583.9      0.    2926.6      0.    3132.47  5524.77  2854.23\n",
      "  4886.37  2215.83   463.99  2337.45  3318.22  5655.67  2373.04     0.\n",
      "  6414.12  5505.51  4886.37  4886.37]\n",
      "Wardrop cost w: 25943.622615341876\n",
      "Cost with tolls: 25943.622615341876\n",
      "Optimal cost with tolls: 25943.62261121288\n",
      "PoA: 1.0000000001591527\n"
     ]
    }
   ],
   "source": [
    "wardrop_vector = f.value\n",
    "\n",
    "print('Wardrop equilibrium without tolls:', wardrop_vector)\n",
    "\n",
    "# cost, defined as \\sum_e f_e d_e(f_e)\n",
    "def cost(f):\n",
    "    tot = []\n",
    "    for i, value in enumerate(f):\n",
    "        tot.append(((traveltime[i] * capacities[i]) / (1 - (value / capacities[i]))) - traveltime[i] * capacities[i])\n",
    "    return sum(tot)\n",
    "\n",
    "# Compute the cost of the Wardrop equilibrium\n",
    "wardrop_cost = cost(wardrop_vector) # evaluate the social cost at the Wardrop equilibrium\n",
    "\n",
    "print('Wardrop cost:', wardrop_cost)\n",
    "\n",
    "# Compute the price of anarchy\n",
    "PoA = wardrop_cost / optimal_cost\n",
    "\n",
    "# Output\n",
    "print('Cost without tolls:', wardrop_cost)\n",
    "print('Optimal cost without tolls:', optimal_cost)\n",
    "print('PoA:', PoA)\n",
    "\n",
    "f = cp.Variable(number_edges) # flow vector\n",
    "\n",
    "\n",
    "omega = [] # omega vector\n",
    "for i, value in enumerate(optimal_flow):\n",
    "    omega.append(value * ((capacities[i] * traveltime[i]) / ((capacities[i] - value) ** 2)))\n",
    "\n",
    "# Define cost function\n",
    "func = cp.sum(cp.multiply(omega, f) - cp.multiply(capacities * traveltime, cp.log(1 - (cp.multiply(f, 1 / capacities)))))\n",
    "\n",
    "objective = cp.Minimize(func)\n",
    "constraints = [traffic @ f == exogenous_flow, f >= 0, f <= capacities]\n",
    "prob = cp.Problem(objective, constraints)\n",
    "\n",
    "result = prob.solve()\n",
    "print('Wardrop equilibrium with tolls:', f.value)\n",
    "\n",
    "war_vect = f.value\n",
    "# compute cost of wardrop equilibrium\n",
    "wardrop_cost = cost(war_vect)\n",
    "\n",
    "print('Wardrop cost w:', wardrop_cost)\n",
    "\n",
    "PoA = wardrop_cost / optimal_cost\n",
    "print('Cost with tolls:', wardrop_cost)\n",
    "print('Optimal cost with tolls:', optimal_cost)\n",
    "\n",
    "print('PoA:', PoA)"
   ]
  },
  {
   "cell_type": "markdown",
   "metadata": {},
   "source": [
    "### g)\n",
    "\n",
    "Instead of the total travel time, let the cost for the system be the total additional delay\n",
    "compared to the total delay in free flow, given by $ψ_e(f_e) = f_e(τ_e(f_e) − l_e)$ \n",
    "\n",
    "subject to the flow constraints. Compute the system optimum $f^{\\;*}$ for the costs above. Construct tolls ω∗such that the Wardrop equilibrium $f^{(\\omega^\\;*)}$ coincides with $f^{\\;*}$. Compute the new Wardrop equilibrium with the constructed tolls $f^{(\\omega^\\;*)}$ to verify your result."
   ]
  },
  {
   "cell_type": "code",
   "execution_count": 18,
   "metadata": {},
   "outputs": [
    {
     "name": "stdout",
     "output_type": "stream",
     "text": [
      "Social optimal flow: [ 6653.3   5774.66  3419.72  3419.71 10152.7   4642.78  3105.84  2662.18\n",
      "  3009.08   878.63     0.01  2354.94     0.01  3419.71  5509.92  3043.69\n",
      "  4881.81  2415.57   443.66  2008.05  3487.35  5495.4   2203.78     0.\n",
      "  6300.7   5623.49  4881.81  4881.81]\n",
      "Optimal cost: 15095.51352460787\n",
      "Constructed tolls: [16806.     0.     0.     0.     0.     0. 16806.     0.     0. 16806.\n",
      "     0.     0.     0.     0.     0.     0.     0.     0. 16806.     0.\n",
      "     0.     0.     0. 16806.     0.     0. 16806. 16806.]\n",
      "Wardrop equilibrium: None\n"
     ]
    }
   ],
   "source": [
    "f = cp.Variable(number_edges)\n",
    "\n",
    "# cost function free flow delay\n",
    "func = cp.sum(cp.multiply(cp.multiply(traveltime, capacities), cp.inv_pos(1 - cp.multiply(f, 1 / capacities))) - cp.multiply(traveltime, capacities) - cp.multiply(traveltime, f))\n",
    "\n",
    "objective = cp.Minimize(func)\n",
    "constraints = [traffic @ f == exogenous_flow, f >= 0, f <= capacities]\n",
    "prob = cp.Problem(objective, constraints)\n",
    "\n",
    "# The optimal objective value is returned by `prob.solve()`.\n",
    "optimal_cost = prob.solve()\n",
    "\n",
    "# The optimal value for f is stored in `f.value`.\n",
    "optimal_flow = f.value\n",
    "print('Social optimal flow:', optimal_flow)\n",
    "print('Optimal cost:', optimal_cost)\n",
    "w = cp.Variable(number_edges)\n",
    "\n",
    "exogenous_flow = np.array([16806, 0, 0, 0, 0, 0, 0, 0, 0, 0, 0, 0, 0, 0, 0, 0, -16806])\n",
    "\n",
    "# cost function with optimal flow\n",
    "integral = - cp.multiply(capacities * traveltime, cp.log(1 - (cp.multiply(optimal_flow, 1 / capacities)))) - cp.multiply( optimal_flow, traveltime) + cp.multiply(w, optimal_flow)\n",
    "func = cp.sum(integral)\n",
    "\n",
    "objective = cp.Minimize(func)\n",
    "constraints = [traffic @ w == exogenous_flow, w >= 0]\n",
    "prob = cp.Problem(objective, constraints)\n",
    "\n",
    "result_w = prob.solve()\n",
    "\n",
    "print('Constructed tolls:', w.value)\n",
    "constr_tolls = w.value\n",
    "\n",
    "f_new = cp.Variable(number_edges)\n",
    "exogenous_flow = np.array([16806, 0, 0, 0, 0, 0, 0, 0, 0, 0, 0, 0, 0, 0, 0, 0, -16806])\n",
    "\n",
    "func = - cp.multiply(capacities * traveltime, cp.log(1 - (cp.multiply(f_new, 1 / capacities)))) \n",
    "- cp.multiply(f_new,traveltime) + cp.multiply(constr_tolls, f_new)\n",
    "\n",
    "objective = cp.Minimize(cp.sum(func))\n",
    "constraints = [traffic @ f_new == exogenous_flow, f_new >= 0, f_new <= edge, f_new == optimal_flow]\n",
    "prob = cp.Problem(objective, constraints)\n",
    "\n",
    "result_w = prob.solve()\n",
    "\n",
    "print('Wardrop equilibrium:', f_new.value)\n",
    "\n",
    "\n",
    "if f_new.value is not None:\n",
    "    def cost2(f):\n",
    "        tot = []\n",
    "        for i, value in enumerate(f):\n",
    "            tot.append(((l[i] * edge[i]) / (1 - (value / edge[i]))) - l[i] * edge[i] - l[i] * value)\n",
    "        return sum(tot)\n",
    "    \n",
    "\n",
    "    war_vect = f_new.value\n",
    "    wardrop_cost = cost2(war_vect)\n",
    "\n",
    "    print('Wardrop cost:', wardrop_cost)\n",
    "    PoA = wardrop_cost / optimal_cost\n",
    "    print('PoA:', PoA)"
   ]
  }
 ],
 "metadata": {
  "kernelspec": {
   "display_name": "Python 3 (ipykernel)",
   "language": "python",
   "name": "python3"
  },
  "language_info": {
   "codemirror_mode": {
    "name": "ipython",
    "version": 3
   },
   "file_extension": ".py",
   "mimetype": "text/x-python",
   "name": "python",
   "nbconvert_exporter": "python",
   "pygments_lexer": "ipython3",
   "version": "3.9.7"
  }
 },
 "nbformat": 4,
 "nbformat_minor": 2
}
